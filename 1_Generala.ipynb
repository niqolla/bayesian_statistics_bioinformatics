{
  "nbformat": 4,
  "nbformat_minor": 0,
  "metadata": {
    "colab": {
      "provenance": [],
      "authorship_tag": "ABX9TyMclCuzwil/oXTWl9RjFIir",
      "include_colab_link": true
    },
    "kernelspec": {
      "name": "python3",
      "display_name": "Python 3"
    },
    "language_info": {
      "name": "python"
    }
  },
  "cells": [
    {
      "cell_type": "markdown",
      "metadata": {
        "id": "view-in-github",
        "colab_type": "text"
      },
      "source": [
        "<a href=\"https://colab.research.google.com/github/niqolla/bayesian_statistics_bioinformatics/blob/main/AST_A01.ipynb\" target=\"_parent\"><img src=\"https://colab.research.google.com/assets/colab-badge.svg\" alt=\"Open In Colab\"/></a>"
      ]
    },
    {
      "cell_type": "code",
      "source": [
        "from itertools import product \n",
        "import pandas as pd \n",
        "import seaborn as sns \n",
        "import matplotlib.pyplot as plt "
      ],
      "metadata": {
        "id": "e13tNQTPA8Kd"
      },
      "execution_count": null,
      "outputs": []
    },
    {
      "cell_type": "markdown",
      "source": [
        "### 1\n",
        "****\n",
        "Write a function that takes a number of dices and returns all the possible outcomes for that amount of dice."
      ],
      "metadata": {
        "id": "H4RZCxLy_6sg"
      }
    },
    {
      "cell_type": "code",
      "source": [
        "def build_rolls(dice_num):\n",
        "    return list(product(range(1,7), repeat=dice_num))"
      ],
      "metadata": {
        "id": "EMpH53aHvFlN"
      },
      "execution_count": null,
      "outputs": []
    },
    {
      "cell_type": "markdown",
      "source": [
        "    For the range(1,7) [1,2,3,4,5,6] repeated by the number of dice (dice_num) \n",
        "    this function returns a list of possible outcomes."
      ],
      "metadata": {
        "id": "54IfCSUBSmP1"
      }
    },
    {
      "cell_type": "markdown",
      "source": [
        "### 2\n",
        "****\n",
        "Write functions that return, given five dice, True or False if we have Straight, Full, Poker, or Generala.\n",
        "\n"
      ],
      "metadata": {
        "id": "JP0IANnyaQSP"
      }
    },
    {
      "cell_type": "code",
      "source": [
        "## Straight\n",
        "\n",
        "def is_Straight(input_list):\n",
        "  if len(set(input_list)) == 5:\n",
        "    return True\n",
        "  return False\n"
      ],
      "metadata": {
        "id": "9R_agnC1ubf3"
      },
      "execution_count": null,
      "outputs": []
    },
    {
      "cell_type": "markdown",
      "source": [
        "    is_Straight returns True if all 5 elements are different, as specified in the assignment."
      ],
      "metadata": {
        "id": "mz7o4dIqS2sG"
      }
    },
    {
      "cell_type": "code",
      "source": [
        "## Full\n",
        "\n",
        "def is_Full(input_list):\n",
        "  if len(set(input_list)) == 2:\n",
        "    set_list = list(set(input_list))\n",
        "    count_1 = input_list.count(set_list[0])\n",
        "    count_2 = input_list.count(set_list[1])\n",
        "    if (count_1==3 and count_2==2) or (count_1==2 and count_2==3):\n",
        "      return True\n",
        "  return False\n"
      ],
      "metadata": {
        "id": "PF56y23vY0gj"
      },
      "execution_count": null,
      "outputs": []
    },
    {
      "cell_type": "markdown",
      "source": [
        "    is_Full counts it there are 2 unique elements in the list and if one of \n",
        "    them is repeated 3 times and the other 2 times. "
      ],
      "metadata": {
        "id": "5CT1hTxrS9tz"
      }
    },
    {
      "cell_type": "code",
      "source": [
        "## Poker\n",
        "\n",
        "def is_Poker(input_list):\n",
        "  if len(set(input_list)) == 2:\n",
        "    set_list = list(set(input_list))\n",
        "    count_1 = input_list.count(set_list[0])\n",
        "    count_2 = input_list.count(set_list[1])\n",
        "    if (count_1==4 and count_2==1) or (count_1==1 and count_2==4):\n",
        "      return True\n",
        "  return False\n"
      ],
      "metadata": {
        "id": "RFwsFP3AbFZ3"
      },
      "execution_count": null,
      "outputs": []
    },
    {
      "cell_type": "markdown",
      "source": [
        "    is_Poker counts it there are 2 unique elements in the list and if one of \n",
        "    them is repeated 4 times and the other 1 time. "
      ],
      "metadata": {
        "id": "zbY46Ov2THsE"
      }
    },
    {
      "cell_type": "code",
      "source": [
        "## Generala\n",
        "\n",
        "def is_Generala(input_list):\n",
        "  if len(set(input_list))==1:\n",
        "    return True\n",
        "  return False\n"
      ],
      "metadata": {
        "id": "DatbC7uObPUo"
      },
      "execution_count": null,
      "outputs": []
    },
    {
      "cell_type": "markdown",
      "source": [
        "    is_Generala checks if there is only 1 unique element in the list, \n",
        "    ie. if 1 element is repeated 5 times"
      ],
      "metadata": {
        "id": "LdZJUYxwTRN6"
      }
    },
    {
      "cell_type": "markdown",
      "source": [
        "###3\n",
        "****\n",
        "Compute the probabilities that you already computed by hand by counting the outcomes describing each roll result in the list of all possible hands served (1st roll)."
      ],
      "metadata": {
        "id": "sAEiZ2iqeClS"
      }
    },
    {
      "cell_type": "code",
      "source": [
        "roll = [1, 2, 3, 4, 5, 6]\n",
        "\n",
        "event_space = []\n",
        "\n",
        "event = []\n",
        "\n",
        "for a in roll:\n",
        "  for b in roll:\n",
        "    for c in roll:\n",
        "      for d in roll:\n",
        "        for e in roll:\n",
        "            event = []\n",
        "            event.append(a)\n",
        "            event.append(b)\n",
        "            event.append(c)\n",
        "            event.append(d)\n",
        "            event.append(e)\n",
        "            event_space.append(event)\n",
        "            # an event is a combination of the outcome of all 5 die\n"
      ],
      "metadata": {
        "id": "Pk5e-Tirrpa5"
      },
      "execution_count": null,
      "outputs": []
    },
    {
      "cell_type": "markdown",
      "source": [
        "    This code returs for each die all the possible outcomes. \n",
        "    ex. for [1,1,1,1,_] it goes through all possible outcomes for the 5th position\n",
        "    and this happends for all possible outcomes of all 5 die "
      ],
      "metadata": {
        "id": "kkFjMZYsTaVu"
      }
    },
    {
      "cell_type": "code",
      "source": [
        "total = len(event_space)\n",
        "\n",
        "a=0\n",
        "for i in event_space:\n",
        "  if len(set(i)) == 5:\n",
        "    a+=1\n",
        "print(f\"Straight: {a}\")\n",
        "print(f\"P: {a/total}\")\n",
        "\n",
        "# here I chech for every element in the event space if it's a straight : \n",
        "# all 5 dice are different numbers\n",
        "\n",
        "print(\"------\")\n",
        "\n",
        "a=0\n",
        "for i in event_space:\n",
        "  if len(set(i)) == 2:\n",
        "    set_list = list(set(i))\n",
        "    count_1 = i.count(set_list[0])\n",
        "    count_2 = i.count(set_list[1])\n",
        "    if (count_1==3 and count_2==2) or (count_1==2 and count_2==3):\n",
        "      a+=1\n",
        "print(f\"Full: {a}\")\n",
        "print(f\"P: {a/total}\")\n",
        "\n",
        "# here I chech for every element in the event space if it's a full : \n",
        "# 2 unique elements - one 3 times, the other 2\n",
        "\n",
        "print(\"------\")\n",
        "\n",
        "a=0\n",
        "for i in event_space:\n",
        "  if len(set(i)) == 2:\n",
        "    set_list = list(set(i))\n",
        "    count_1 = i.count(set_list[0])\n",
        "    count_2 = i.count(set_list[1])\n",
        "    if (count_1==4 and count_2==1) or (count_1==1 and count_2==4):\n",
        "      a+=1\n",
        "print(f\"Poker: {a}\")\n",
        "print(f\"P: {a/total}\")\n",
        "\n",
        "# here I check if its a poker : \n",
        "# 2 elements - one 4 times, the other once\n",
        "\n",
        "print(\"------\")\n",
        "\n",
        "a=0\n",
        "for i in event_space:\n",
        "  if len(set(i)) == 1:\n",
        "    a+=1\n",
        "print(f\"Generala: {a}\")\n",
        "print(f\"P: {a/total}\")\n",
        "\n",
        "# here I check if its a generala, \n",
        "# ei. if there is only one unique element\n"
      ],
      "metadata": {
        "colab": {
          "base_uri": "https://localhost:8080/"
        },
        "id": "khPGuPYPNw_i",
        "outputId": "361d5074-d80d-4a80-b217-3998181828be"
      },
      "execution_count": null,
      "outputs": [
        {
          "output_type": "stream",
          "name": "stdout",
          "text": [
            "Straight: 720\n",
            "P: 0.09259259259259259\n",
            "------\n",
            "Full: 300\n",
            "P: 0.038580246913580245\n",
            "------\n",
            "Poker: 150\n",
            "P: 0.019290123456790122\n",
            "------\n",
            "Generala: 6\n",
            "P: 0.0007716049382716049\n"
          ]
        }
      ]
    },
    {
      "cell_type": "markdown",
      "source": [
        "###4\n",
        "*****\n",
        "Write a function that simulates a roll with n fair dice.\n",
        "\n"
      ],
      "metadata": {
        "id": "sMaGnk1sedAl"
      }
    },
    {
      "cell_type": "code",
      "source": [
        "import random"
      ],
      "metadata": {
        "id": "kByUo_EUfOqA"
      },
      "execution_count": null,
      "outputs": []
    },
    {
      "cell_type": "code",
      "source": [
        "def roll_dice(dice_num):\n",
        "  result = []\n",
        "  events = [1,2,3,4,5,6]\n",
        "  for i in range(0,dice_num):\n",
        "    result.append(random.choice(events))\n",
        "  return result"
      ],
      "metadata": {
        "id": "jdOS_9oweUAW"
      },
      "execution_count": null,
      "outputs": []
    },
    {
      "cell_type": "markdown",
      "source": [
        "    This function generates a random number from the list of [1,2,3,4,5,6], and is repeated by the number of dice (dice_num times).\n",
        "    The output for each iteration is appended to a list that starts out empty, and then the list is returned."
      ],
      "metadata": {
        "id": "0_BjTRhaUWCU"
      }
    },
    {
      "cell_type": "markdown",
      "source": [
        "###5\n",
        "***\n",
        "Write a function that plays automatically (max 3 rolls), always looking for a Generala with a greedy strategy (always keeping the most dices of the same kind and rolling the others) that returns True if we get a Generala and a False otherwise. \n",
        "\n",
        "  Which kind of distribution follows this function results? Explain your reasoning within the delivered python notebook."
      ],
      "metadata": {
        "id": "8EeBNZItf7km"
      }
    },
    {
      "cell_type": "code",
      "source": [
        "def greedy_generala():\n",
        "\n",
        "  what_we_want = 0\n",
        "  dict_of_counts={}\n",
        "  count_so_far=0\n",
        "  hand = 1\n",
        "\n",
        "  straigth = []\n",
        "\n",
        "  while hand <= 3: \n",
        "    # at the end of the while loop we add +1 to {hand} so when it gets to 4 it's stopped\n",
        "    # i used <= 3 because hand starts out being equal to 1\n",
        "\n",
        "    served = roll_dice(5-count_so_far)\n",
        "    # a new random list of {5-count_so_far} elements is generated\n",
        "    # count_so_far is the number of die that have the same number on them, \n",
        "    # it starts out being 0 so in hand = 1, server = roll_dice(5)\n",
        "\n",
        "    straigth.append(is_Straight(served))\n",
        "    # check if it's a straight, because there we have no elements that are the same so the loop can't get the element which is repeated most\n",
        "\n",
        "    if (hand == 1 and straigth[0] == False) or (hand == 2 and straigth[0] == True and straigth[1] == False) or (hand == 3 and straigth[0] == True and straigth[1] == True and straigth[2] == False):\n",
        "      # if it's first roll and it's not a straigh\n",
        "      # or the second and the first was staight and the second was not\n",
        "      # or the third and the first two were straight and the last was not\n",
        "      for i in set(served):\n",
        "        dict_of_counts.update({i:served.count(i)})\n",
        "        # it generates an dictonary from the count of each element in the list {element : count}\n",
        "      list_of_tuples_from_dict = sorted(dict_of_counts.items(), key = lambda x:x[1], reverse=True)\n",
        "      # from the dictonary we ge a list of touples and we sort them by the count ( the second element in each touple (touple[1]) is a descending order)\n",
        "      what_we_want = list_of_tuples_from_dict[0][0]\n",
        "      # from the sorted list it takes the first touple, and from that touple the first element which is the number that appeared the most ammount of times\n",
        "\n",
        "    if straigth[hand-1] == True:\n",
        "      hand += 1\n",
        "      continue\n",
        "      # if the hand is a straight, then throw once more, because we can't say that a number appeared the most ammount of times, since all apear once\n",
        "      # and continue means don't go throught whats below\n",
        "      # then iterates again and \n",
        "\n",
        "    count_so_far +=  served.count(what_we_want)\n",
        "    # from the element that appered the most, count how many times it appeared \n",
        "\n",
        "    hand += 1\n",
        "    # increase the hand by one\n",
        "  \n",
        "  if count_so_far == 5:\n",
        "    return True\n",
        "    # if the number that appeared in the beggining the most, counts up to 5 in the 3 times we roll the dice, return a true = we got a generala\n",
        "  else:\n",
        "    return False\n",
        "    # else, we didn't\n"
      ],
      "metadata": {
        "id": "rXO2rs6UuV30"
      },
      "execution_count": null,
      "outputs": []
    },
    {
      "cell_type": "code",
      "source": [
        "# the following can be done in a list, but I wanted to do it in a table just to practise :D \n",
        "\n",
        "resultsM = []\n",
        "T_count = []\n",
        "F_count = []\n",
        "\n",
        "repeats = range(0,100)\n",
        "trials_in_repeat = range(0,1000)\n",
        "\n",
        "for repeat in repeats:\n",
        "  # i immagined here a number of people (repeats) trying to get the generala \n",
        "  results = []\n",
        "  for i in trials_in_repeat:\n",
        "    # each person tries to get generala with a greedy strategy trials_in_repeat number of times (with the limitation that 1 trial allows a max of 3 rolls)\n",
        "    results.append(greedy_generala())\n",
        "    # for every trial the person add to a list what the outcome is\n",
        "  resultsM.append(results)\n",
        "  # then the person add this to a table\n"
      ],
      "metadata": {
        "id": "ZLXlTYGObnAt"
      },
      "execution_count": null,
      "outputs": []
    },
    {
      "cell_type": "code",
      "source": [
        "df_R = pd.DataFrame(resultsM)\n",
        "# the table is loaded as a dataframe \n",
        "\n",
        "for i in repeats:\n",
        "  Ts = list(df_R.T[i]).count(True)\n",
        "  T_count.append(Ts)\n",
        "  # then for each person the number of True is recorede and added to a list : T_count\n",
        "  Fs = list(df_R.T[i]).count(False)\n",
        "  F_count.append(Fs)\n",
        "  # the same for the False : F_count\n",
        "\n",
        "df_R['T_counts'] = T_count\n",
        "df_R['F_counts'] = F_count\n",
        "\n",
        "# these two lists are added to the dataframe\n",
        "\n",
        "p = (sum(T_count)/len(T_count))/len(trials_in_repeat)\n",
        "# the probability is counted as the number of True values over the number of all possible trials by every person"
      ],
      "metadata": {
        "id": "QaF3NLNe15bP"
      },
      "execution_count": null,
      "outputs": []
    },
    {
      "cell_type": "code",
      "source": [
        "print(f'Average counts of T: {sum(T_count)/len(T_count)} ; and of F: {sum(F_count)/len(F_count)}')\n",
        "print(f'The probability is p = {p}.')\n",
        "print(f'The distribution is Ber({p}), because it\\'s a', \"\\n\", \\\n",
        "'discrete distribution with with two outcomes: T/F.')\n"
      ],
      "metadata": {
        "colab": {
          "base_uri": "https://localhost:8080/"
        },
        "id": "jDWDI7OSfRj_",
        "outputId": "eeb2c0a8-8395-4740-8146-bc42cdb710ac"
      },
      "execution_count": null,
      "outputs": [
        {
          "output_type": "stream",
          "name": "stdout",
          "text": [
            "Average counts of T: 45.1 ; and of F: 954.9\n",
            "The probability is p = 0.0451.\n",
            "The distribution is Ber(0.0451), because it's a \n",
            " discrete distribution with with two outcomes: T/F.\n"
          ]
        }
      ]
    },
    {
      "cell_type": "markdown",
      "source": [
        "  The model is a Bernouli distribution becase we have two possible outcomes - true or false. \n",
        "\n",
        "  Calculating probability:\n",
        "\n",
        "    > First-try generala:\n",
        "    Number of combinations: 6\n",
        "\n",
        "    > Case: Two-same: 4 x\n",
        "    1, 1, _, _, _;\n",
        "      - getting the rest all at once 1 outcome\n",
        "      - getiing one more, 3 ; getting two more, 1.\n",
        "      - getting two more, 2 ; getting one more, 1.\n",
        "      = for all numbers x 6 = 6 x 6 x 4\n",
        "\n",
        "    > Case: Three-same: 3 x\n",
        "    1, 1, 1, _, _;\n",
        "      - getting the rest all at once 1 outcome\n",
        "      - getiing one more, 2\n",
        "      = for all numbers x 6 = 6 x 3 x 3\n",
        "\n",
        "    > Case: Four-same: 2 x\n",
        "    1, 1, 1, 1, _;\n",
        "      - getiing one more, 1\n",
        "      = for all numbers x 6 = 6 x 2\n",
        "\n",
        "    > Case: Straigth: \n",
        "    1, 2, 3, 4, 5 = needs to re-roll all, 2 more times left, so # of combinations: 2 x 6\n",
        "\n",
        "    --> Case: Two-same: 6 x 3 \n",
        "    --> Case: Three-same: 6 x 2 \n",
        "    --> Case: Four-same: 6 x 1 \n",
        "\n",
        "    ==> So all combinations are = 6 ( 47 + 2 x 6 )\n",
        "\n",
        "    ==> The probability is: all combinations / total event space\n",
        "        P = 6 * 59 / 6^5 = 0.045524691"
      ],
      "metadata": {
        "id": "28ymNAFp27vi"
      }
    },
    {
      "cell_type": "markdown",
      "source": [
        "###6\n",
        "****\n",
        "Write a function that plays until it gets a Generala, count how many times it had to play to get it, and return this number. Which kind of distribution follows this function results? Explain your reasoning within the delivered python notebook"
      ],
      "metadata": {
        "id": "Gm3t0G_gioVe"
      }
    },
    {
      "cell_type": "code",
      "source": [
        "# the concept here is similar to the one before, but we do not limit the number of hands to 3, \n",
        "# instead the limit is : repeat untill we get a count of 5 from the dice that appeared most in the first trial (if it was not a striaght)\n",
        "\n",
        "def n_greedy_generala():\n",
        "\n",
        "  what_we_want = 0\n",
        "  dict_of_counts={}\n",
        "  count_so_far=0\n",
        "  hand = 1\n",
        "  straigth = []\n",
        "\n",
        "  while count_so_far < 5: \n",
        "    served = roll_dice(5-count_so_far)\n",
        "    # a new random list of {5-count_so_far} elements is generated\n",
        "    # count_so_far is the number of die that have the same number on them, \n",
        "    # it starts out being 0 so in hand = 1, server = roll_dice(5)\n",
        "\n",
        "    straigth.append(is_Straight(served))\n",
        "    # check if it's a straight, because there we have no elements that are the same so the loop can't get the element which is repeated most\n",
        "\n",
        "    if (hand == 1 and straigth[0] == False) or (all(straigth[:(hand-1)]) == True and straigth[hand-1] == False):\n",
        "      # if it's first roll and it's not a straigh \n",
        "      # or any number or roll and all previous were straight and this one isn't\n",
        "      # I assume someone could be really unlucky and get staright the first 3 or more times\n",
        "      for i in set(served):\n",
        "        dict_of_counts.update({i:served.count(i)})\n",
        "        # it generates an dictonary from the count of each element in the list {element : count}\n",
        "      list_of_tuples_from_dict = sorted(dict_of_counts.items(), key = lambda x:x[1], reverse=True)\n",
        "      # from the dictonary we ge a list of touples and we sort them by the count ( the second element in each touple (touple[1]) is a descending order)\n",
        "      what_we_want = list_of_tuples_from_dict[0][0]\n",
        "      # from the sorted list it takes the first touple, and from that touple the first element which is the number that appeared the most ammount of times\n",
        "\n",
        "    if straigth[hand-1] == True:\n",
        "      hand += 1\n",
        "      continue\n",
        "      # if the hand is a straight, then throw once more, because we can't say that a number appeared the most ammount of times, since all apear once\n",
        "      # and continue means don't go throught whats below\n",
        "      # then iterates again and \n",
        "\n",
        "    count_so_far +=  served.count(what_we_want)\n",
        "    # from the element that appered the most, count how many times it appeared\n",
        "    hand += 1\n",
        "    # increase the number of hand\n",
        "\n",
        "  return hand-1\n",
        "  # then when it exits the while loop ; when the count of the number we want is => 5, \n",
        "  # the function returns the number of hands it took to get to a generala with a greedy strategy"
      ],
      "metadata": {
        "id": "pAyMEcLCgmV2"
      },
      "execution_count": null,
      "outputs": []
    },
    {
      "cell_type": "code",
      "source": [
        "n_required = []\n",
        "for i in range(0,6000):\n",
        "  n_required.append(n_greedy_generala())\n",
        "# we try this out 6000 times"
      ],
      "metadata": {
        "id": "TaTmr6Z_-m9k"
      },
      "execution_count": null,
      "outputs": []
    },
    {
      "cell_type": "code",
      "source": [
        "len_of_n = len(n_required)\n",
        "# the len of n_required is of coures 6000 because we set the number of trials to be 6000\n",
        "# but i just wanted to make the code modular, thats why i get the len here\n",
        "\n",
        "for i in set(n_required):\n",
        "  # i get the set of the number of hands it took to get a generala = the unique values of the number of trials\n",
        "  counts = n_required.count(i)\n",
        "  # then i count how many times this value was repeated in the all of the 6000 times we repeated the experiment\n",
        "  # 'if 6000 people did this once, how many people report that it took them n ammount of time to get the generala'\n",
        "  print(i, '\\t:\\t', counts , '\\t:\\t', round(counts/len_of_n, 4))\n",
        "  # the i print the :\n",
        "  # number of trials to get the generala \n",
        "  # : how frequent is it to need this many ties to get the generara \n",
        "  # : what is the probabiliy of this number of trials : counts / all \n",
        "\n"
      ],
      "metadata": {
        "colab": {
          "base_uri": "https://localhost:8080/"
        },
        "id": "ohfrlHG0LPYF",
        "outputId": "a7838d4b-cc19-4305-89c9-ac7be4f1d31b"
      },
      "execution_count": null,
      "outputs": [
        {
          "output_type": "stream",
          "name": "stdout",
          "text": [
            "1 \t:\t 4 \t:\t 0.0007\n",
            "2 \t:\t 74 \t:\t 0.0123\n",
            "3 \t:\t 209 \t:\t 0.0348\n",
            "4 \t:\t 330 \t:\t 0.055\n",
            "5 \t:\t 385 \t:\t 0.0642\n",
            "6 \t:\t 498 \t:\t 0.083\n",
            "7 \t:\t 482 \t:\t 0.0803\n",
            "8 \t:\t 477 \t:\t 0.0795\n",
            "9 \t:\t 419 \t:\t 0.0698\n",
            "10 \t:\t 388 \t:\t 0.0647\n",
            "11 \t:\t 428 \t:\t 0.0713\n",
            "12 \t:\t 340 \t:\t 0.0567\n",
            "13 \t:\t 323 \t:\t 0.0538\n",
            "14 \t:\t 244 \t:\t 0.0407\n",
            "15 \t:\t 217 \t:\t 0.0362\n",
            "16 \t:\t 173 \t:\t 0.0288\n",
            "17 \t:\t 151 \t:\t 0.0252\n",
            "18 \t:\t 127 \t:\t 0.0212\n",
            "19 \t:\t 112 \t:\t 0.0187\n",
            "20 \t:\t 90 \t:\t 0.015\n",
            "21 \t:\t 94 \t:\t 0.0157\n",
            "22 \t:\t 68 \t:\t 0.0113\n",
            "23 \t:\t 66 \t:\t 0.011\n",
            "24 \t:\t 55 \t:\t 0.0092\n",
            "25 \t:\t 34 \t:\t 0.0057\n",
            "26 \t:\t 35 \t:\t 0.0058\n",
            "27 \t:\t 27 \t:\t 0.0045\n",
            "28 \t:\t 26 \t:\t 0.0043\n",
            "29 \t:\t 17 \t:\t 0.0028\n",
            "30 \t:\t 13 \t:\t 0.0022\n",
            "31 \t:\t 17 \t:\t 0.0028\n",
            "32 \t:\t 15 \t:\t 0.0025\n",
            "33 \t:\t 10 \t:\t 0.0017\n",
            "34 \t:\t 11 \t:\t 0.0018\n",
            "35 \t:\t 6 \t:\t 0.001\n",
            "36 \t:\t 6 \t:\t 0.001\n",
            "37 \t:\t 8 \t:\t 0.0013\n",
            "38 \t:\t 4 \t:\t 0.0007\n",
            "39 \t:\t 3 \t:\t 0.0005\n",
            "40 \t:\t 3 \t:\t 0.0005\n",
            "41 \t:\t 1 \t:\t 0.0002\n",
            "42 \t:\t 1 \t:\t 0.0002\n",
            "43 \t:\t 1 \t:\t 0.0002\n",
            "44 \t:\t 2 \t:\t 0.0003\n",
            "45 \t:\t 1 \t:\t 0.0002\n",
            "46 \t:\t 2 \t:\t 0.0003\n",
            "47 \t:\t 1 \t:\t 0.0002\n",
            "51 \t:\t 2 \t:\t 0.0003\n"
          ]
        }
      ]
    },
    {
      "cell_type": "code",
      "source": [
        "req_df = pd.DataFrame(n_required)\n",
        "# the list is loaded as a dataframe\n",
        "sns.histplot(req_df, legend = False, stat='probability')\n",
        "# the histogram is plotted\n",
        "plt.show()\n",
        "req_df.describe().T\n",
        "# a brief statistical discription of the list is displayed\n"
      ],
      "metadata": {
        "colab": {
          "base_uri": "https://localhost:8080/",
          "height": 329
        },
        "id": "ArIRuJqGBcNI",
        "outputId": "2b03e5b5-2a6f-4d82-8d8d-50fa180c3550"
      },
      "execution_count": null,
      "outputs": [
        {
          "output_type": "display_data",
          "data": {
            "text/plain": [
              "<Figure size 432x288 with 1 Axes>"
            ],
            "image/png": "[encoded data removed]"
          },
          "metadata": {
            "needs_background": "light"
          }
        },
        {
          "output_type": "execute_result",
          "data": {
            "text/plain": [
              "    count       mean       std  min   25%   50%   75%   max\n",
              "0  6000.0  11.131667  6.419179  1.0  6.75  10.0  14.0  51.0"
            ],
            "text/html": [
              "\n",
              "  <div id=\"df-54e3a585-0a66-4f7f-ae43-03bf45bb8122\">\n",
              "    <div class=\"colab-df-container\">\n",
              "      <div>\n",
              "<style scoped>\n",
              "    .dataframe tbody tr th:only-of-type {\n",
              "        vertical-align: middle;\n",
              "    }\n",
              "\n",
              "    .dataframe tbody tr th {\n",
              "        vertical-align: top;\n",
              "    }\n",
              "\n",
              "    .dataframe thead th {\n",
              "        text-align: right;\n",
              "    }\n",
              "</style>\n",
              "<table border=\"1\" class=\"dataframe\">\n",
              "  <thead>\n",
              "    <tr style=\"text-align: right;\">\n",
              "      <th></th>\n",
              "      <th>count</th>\n",
              "      <th>mean</th>\n",
              "      <th>std</th>\n",
              "      <th>min</th>\n",
              "      <th>25%</th>\n",
              "      <th>50%</th>\n",
              "      <th>75%</th>\n",
              "      <th>max</th>\n",
              "    </tr>\n",
              "  </thead>\n",
              "  <tbody>\n",
              "    <tr>\n",
              "      <th>0</th>\n",
              "      <td>6000.0</td>\n",
              "      <td>11.131667</td>\n",
              "      <td>6.419179</td>\n",
              "      <td>1.0</td>\n",
              "      <td>6.75</td>\n",
              "      <td>10.0</td>\n",
              "      <td>14.0</td>\n",
              "      <td>51.0</td>\n",
              "    </tr>\n",
              "  </tbody>\n",
              "</table>\n",
              "</div>\n",
              "      <button class=\"colab-df-convert\" onclick=\"convertToInteractive('df-54e3a585-0a66-4f7f-ae43-03bf45bb8122')\"\n",
              "              title=\"Convert this dataframe to an interactive table.\"\n",
              "              style=\"display:none;\">\n",
              "        \n",
              "  <svg xmlns=\"http://www.w3.org/2000/svg\" height=\"24px\"viewBox=\"0 0 24 24\"\n",
              "       width=\"24px\">\n",
              "    <path d=\"M0 0h24v24H0V0z\" fill=\"none\"/>\n",
              "    <path d=\"M18.56 5.44l.94 2.06.94-2.06 2.06-.94-2.06-.94-.94-2.06-.94 2.06-2.06.94zm-11 1L8.5 8.5l.94-2.06 2.06-.94-2.06-.94L8.5 2.5l-.94 2.06-2.06.94zm10 10l.94 2.06.94-2.06 2.06-.94-2.06-.94-.94-2.06-.94 2.06-2.06.94z\"/><path d=\"M17.41 7.96l-1.37-1.37c-.4-.4-.92-.59-1.43-.59-.52 0-1.04.2-1.43.59L10.3 9.45l-7.72 7.72c-.78.78-.78 2.05 0 2.83L4 21.41c.39.39.9.59 1.41.59.51 0 1.02-.2 1.41-.59l7.78-7.78 2.81-2.81c.8-.78.8-2.07 0-2.86zM5.41 20L4 18.59l7.72-7.72 1.47 1.35L5.41 20z\"/>\n",
              "  </svg>\n",
              "      </button>\n",
              "      \n",
              "  <style>\n",
              "    .colab-df-container {\n",
              "      display:flex;\n",
              "      flex-wrap:wrap;\n",
              "      gap: 12px;\n",
              "    }\n",
              "\n",
              "    .colab-df-convert {\n",
              "      background-color: #E8F0FE;\n",
              "      border: none;\n",
              "      border-radius: 50%;\n",
              "      cursor: pointer;\n",
              "      display: none;\n",
              "      fill: #1967D2;\n",
              "      height: 32px;\n",
              "      padding: 0 0 0 0;\n",
              "      width: 32px;\n",
              "    }\n",
              "\n",
              "    .colab-df-convert:hover {\n",
              "      background-color: #E2EBFA;\n",
              "      box-shadow: 0px 1px 2px rgba(60, 64, 67, 0.3), 0px 1px 3px 1px rgba(60, 64, 67, 0.15);\n",
              "      fill: #174EA6;\n",
              "    }\n",
              "\n",
              "    [theme=dark] .colab-df-convert {\n",
              "      background-color: #3B4455;\n",
              "      fill: #D2E3FC;\n",
              "    }\n",
              "\n",
              "    [theme=dark] .colab-df-convert:hover {\n",
              "      background-color: #434B5C;\n",
              "      box-shadow: 0px 1px 3px 1px rgba(0, 0, 0, 0.15);\n",
              "      filter: drop-shadow(0px 1px 2px rgba(0, 0, 0, 0.3));\n",
              "      fill: #FFFFFF;\n",
              "    }\n",
              "  </style>\n",
              "\n",
              "      <script>\n",
              "        const buttonEl =\n",
              "          document.querySelector('#df-54e3a585-0a66-4f7f-ae43-03bf45bb8122 button.colab-df-convert');\n",
              "        buttonEl.style.display =\n",
              "          google.colab.kernel.accessAllowed ? 'block' : 'none';\n",
              "\n",
              "        async function convertToInteractive(key) {\n",
              "          const element = document.querySelector('#df-54e3a585-0a66-4f7f-ae43-03bf45bb8122');\n",
              "          const dataTable =\n",
              "            await google.colab.kernel.invokeFunction('convertToInteractive',\n",
              "                                                     [key], {});\n",
              "          if (!dataTable) return;\n",
              "\n",
              "          const docLinkHtml = 'Like what you see? Visit the ' +\n",
              "            '<a target=\"_blank\" href=https://colab.research.google.com/notebooks/data_table.ipynb>data table notebook</a>'\n",
              "            + ' to learn more about interactive tables.';\n",
              "          element.innerHTML = '';\n",
              "          dataTable['output_type'] = 'display_data';\n",
              "          await google.colab.output.renderOutput(dataTable, element);\n",
              "          const docLink = document.createElement('div');\n",
              "          docLink.innerHTML = docLinkHtml;\n",
              "          element.appendChild(docLink);\n",
              "        }\n",
              "      </script>\n",
              "    </div>\n",
              "  </div>\n",
              "  "
            ]
          },
          "metadata": {},
          "execution_count": 56
        }
      ]
    },
    {
      "cell_type": "markdown",
      "source": [
        "  This, of course, is a discrete probability distribution. \n",
        "\n",
        "  It really took me a while to think of a possible explanation for this distribution, and I'm still not sure I have the correct answer. \n",
        "\n",
        "  First, I thought of the Geomertic Distribution - the number of trials unitll first success. However in this standard distribution the probability is the same from trial to trial. So, this would be appropriate when modeling a generala game without the greedy strategy - rolling 5 dice continuously to get a generala, but not here. Also, the shape of the distribution is not like a geometric one. \n",
        "\n",
        "  Then, I thought of the Negative Binomial Dist. - number of trials until the kth success. But I don't think that's apporpirate to model this distribution. It also doesn't allow for chainging the p value between trials. A model that allows for changing p values is a hypergeometric distribution, but I don't think thats appropirate here too. \n",
        "\n",
        "  So, because the probabilities change from one trial to another is such as complex way, I think that a standard distribution is not appropriate. I think that this case would require a model build specifically for it with mathematical modeling."
      ],
      "metadata": {
        "id": "CBSOwYGpgtZb"
      }
    }
  ]
}
